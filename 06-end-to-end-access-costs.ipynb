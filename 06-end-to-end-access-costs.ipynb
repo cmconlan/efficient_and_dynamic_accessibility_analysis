{
 "cells": [
  {
   "cell_type": "markdown",
   "metadata": {},
   "source": [
    "### End to end\n",
    "\n",
    "Process\n",
    "\n",
    "\n",
    "- Load neccessary data\n",
    "- Repeat following 10 times\n",
    "- Randomly select OAs and POIs to form an area of study\n",
    "- Randomly select a weekday, weekend, bank holiday from period of study\n",
    "- Cost trips on OTP (and OTP2 / r5?)\n",
    "- Run matrix spasification techniques\n",
    "    - knn\n",
    "    - spatial clustering\n",
    "    - flow clustering\n",
    "    - gravity trip generator\n",
    "- Reduce results as much as possible without loss of information"
   ]
  },
  {
   "cell_type": "markdown",
   "metadata": {},
   "source": [
    "Module imports\n",
    "\n",
    "todo: check to see if any unneccsary"
   ]
  },
  {
   "cell_type": "code",
   "execution_count": 1,
   "metadata": {},
   "outputs": [
    {
     "name": "stderr",
     "output_type": "stream",
     "text": [
      "/tmp/ipykernel_9961/1032600203.py:1: DeprecationWarning: \n",
      "Pyarrow will become a required dependency of pandas in the next major release of pandas (pandas 3.0),\n",
      "(to allow more performant data types, such as the Arrow string type, and better interoperability with other libraries)\n",
      "but was not found to be installed on your system.\n",
      "If this would cause problems for you,\n",
      "please provide us feedback at https://github.com/pandas-dev/pandas/issues/54466\n",
      "        \n",
      "  import pandas as pd\n"
     ]
    }
   ],
   "source": [
    "import pandas as pd\n",
    "import geopandas as gpd\n",
    "from shapely import Point\n",
    "from datetime import datetime, timedelta\n",
    "import random\n",
    "import numpy as np\n",
    "from math import radians, cos, sin, asin, sqrt,exp,pow\n",
    "import math\n",
    "import statistics\n",
    "from sklearn.neighbors import NearestNeighbors\n",
    "import matplotlib.pyplot as plt \n",
    "from sklearn.cluster import KMeans\n",
    "import numpy as np\n",
    "from sklearn.cluster import DBSCAN\n",
    "from sklearn.cluster import HDBSCAN\n",
    "\n",
    "def distance_decay(distance, decay_constant, exponent):\n",
    "    decay_constant = 1\n",
    "    exponent = 0.09\n",
    "    return exp(-decay_constant * pow(distance, exponent))\n",
    "\n",
    "def haversine_distance(lat1, lon1, lat2, lon2):\n",
    "    \"\"\"\n",
    "    Calculate the haversine distance between two points given their latitude and longitude.\n",
    "\n",
    "    Parameters:\n",
    "    - lat1, lon1: Latitude and longitude of the first point (in degrees)\n",
    "    - lat2, lon2: Latitude and longitude of the second point (in degrees)\n",
    "\n",
    "    Returns:\n",
    "    The haversine distance in kilometers.\n",
    "    \"\"\"\n",
    "    # Convert latitude and longitude from degrees to radians\n",
    "    lat1, lon1, lat2, lon2 = map(math.radians, [lat1, lon1, lat2, lon2])\n",
    "\n",
    "    # Haversine formula\n",
    "    dlat = lat2 - lat1\n",
    "    dlon = lon2 - lon1\n",
    "    a = math.sin(dlat / 2)**2 + math.cos(lat1) * math.cos(lat2) * math.sin(dlon / 2)**2\n",
    "    c = 2 * math.atan2(math.sqrt(a), math.sqrt(1 - a))\n",
    "\n",
    "    # Radius of the Earth in kilometers (mean value)\n",
    "    earth_radius = 6371.0\n",
    "\n",
    "    # Calculate the haversine distance\n",
    "    distance = earth_radius * c\n",
    "\n",
    "    return distance\n",
    "\n",
    "def flowProx(flow_i,flow_j, alpha=1, beta=1, gamma=1):\n",
    "    dist = (alpha*((flow_i[0] - flow_j[0]) ** 2) + beta*(((flow_i[2] - flow_j[2]) ** 2) + ((flow_i[3] - flow_j[3]) ** 2))) / ((haversine_distance(flow_i[0],flow_i[1],flow_i[2],flow_i[3]) * haversine_distance(flow_j[0],flow_j[1],flow_j[2],flow_j[3]))**gamma)\n",
    "    return dist\n",
    "\n",
    "\n",
    "def getminreach(xi,xj):\n",
    "    flow_i=tuple([xi[0],xi[1],xi[2],xi[3]])\n",
    "    flow_j=tuple([xj[0],xj[1],xj[2],xj[3]])\n",
    "    CDi = xi[4]\n",
    "    CDj = xj[4]\n",
    "    prox_dist = flowProx(flow_i,flow_j, alpha=1, beta=1, gamma=1)\n",
    "    mreachd = max(CDi,CDj,prox_dist)\n",
    "    return mreachd"
   ]
  },
  {
   "cell_type": "markdown",
   "metadata": {},
   "source": [
    "Set up code paramaters"
   ]
  },
  {
   "cell_type": "code",
   "execution_count": 2,
   "metadata": {},
   "outputs": [],
   "source": [
    "# Get Time Stamps / Time Interval\n",
    "\n",
    "stratumDict = {\n",
    "    'amPeak':{\n",
    "        'startHour' : 6,\n",
    "        'startMinute' : 30,\n",
    "        'endHour' : 9,\n",
    "        'endMinute' : 00\n",
    "        },\n",
    "    'Saturday':{\n",
    "        'startHour' : 10,\n",
    "        'startMinute' : 00,\n",
    "        'endHour' : 18,\n",
    "        'endMinute' : 00\n",
    "        },\n",
    "    'bh':{\n",
    "        'startHour' : 10,\n",
    "        'startMinute' : 00,\n",
    "        'endHour' : 18,\n",
    "        'endMinute' : 00\n",
    "        }\n",
    "    }\n",
    "\n",
    "#Params\n",
    "decay_constant = 1\n",
    "exponent = 0.09\n",
    "\n",
    "# Vectrise distance decay function\n",
    "vfunc = np.vectorize(distance_decay)"
   ]
  },
  {
   "cell_type": "markdown",
   "metadata": {},
   "source": [
    "Import data\n",
    "\n",
    "Todo:\n",
    "- Save POI assocations to improve efficiency\n",
    "- Check OA script all ok?"
   ]
  },
  {
   "cell_type": "code",
   "execution_count": 3,
   "metadata": {},
   "outputs": [],
   "source": [
    "# Get day index\n",
    "# Specify the start and end dates\n",
    "start_date = '2024-03-15'\n",
    "end_date = '2024-04-15'\n",
    "\n",
    "# Create a date-time index\n",
    "date_index = pd.date_range(start=start_date, end=end_date, freq='D')\n",
    "\n",
    "experiment_dates = pd.DataFrame(index = date_index)\n",
    "\n",
    "experiment_dates['weekday'] = experiment_dates.index.weekday < 5\n",
    "experiment_dates['saturday'] = experiment_dates.index.weekday == 5\n",
    "bank_holidays = ['2024-03-29', '2024-04-01']\n",
    "experiment_dates['bank_holiday'] = experiment_dates.index.isin(pd.to_datetime(bank_holidays))\n",
    "\n",
    "# Get OAs\n",
    "wm_oas = gpd.read_file('data/west_midlands_OAs/west_midlands_OAs.shp')\n",
    "wm_oas = wm_oas[wm_oas['LAD11CD'] == 'E08000026']\n",
    "oa_info = pd.read_csv('data/oa_info.csv')\n",
    "oa_info = oa_info.merge(wm_oas[['OA11CD']], left_on = 'oa_id', right_on = 'OA11CD', how = 'inner')\n",
    "oaLatLon = oa_info[['oa_id','oa_lon','oa_lat']]\n",
    "\n",
    "# Get POIs\n",
    "pois = pd.read_csv('data/POIs/pois_cov.csv', index_col=0)"
   ]
  },
  {
   "cell_type": "code",
   "execution_count": 4,
   "metadata": {},
   "outputs": [],
   "source": [
    "mean = 50\n",
    "std_dev = 20\n",
    "attractivnessDict = {}\n",
    "\n",
    "for pid in list(pois['poi_id']):\n",
    "    random_value = random.normalvariate(mean, std_dev)\n",
    "    attractivnessDict[pid] = max(min(random_value, 100), 0)"
   ]
  },
  {
   "cell_type": "markdown",
   "metadata": {},
   "source": [
    "Iterate"
   ]
  },
  {
   "cell_type": "code",
   "execution_count": 5,
   "metadata": {},
   "outputs": [],
   "source": [
    "iteration = 1"
   ]
  },
  {
   "cell_type": "markdown",
   "metadata": {},
   "source": [
    "For an iteration select random OAs and POI - get from old code don't need to re-invent this\n",
    "\n",
    "To do - extend this to 200 and 50"
   ]
  },
  {
   "cell_type": "code",
   "execution_count": 6,
   "metadata": {},
   "outputs": [],
   "source": [
    "#Sample 200 random zones\n",
    "oaSample = oa_info.sample(30)[['oa_id','oa_lat','oa_lon']]\n",
    "\n",
    "#POIs\n",
    "POISample = pois.sample(30)\n",
    "POISample['attractiveness'] = POISample['poi_id'].map(attractivnessDict)"
   ]
  },
  {
   "cell_type": "markdown",
   "metadata": {},
   "source": [
    "Define time domain - randomly select trip times and weekend/weekday/bank holiday\n",
    "\n",
    "\n",
    "Change to more start times"
   ]
  },
  {
   "cell_type": "code",
   "execution_count": 7,
   "metadata": {},
   "outputs": [],
   "source": [
    "stratum = 'amPeak'\n",
    "\n",
    "if stratum == 'amPeak':\n",
    "    study_date = experiment_dates[(experiment_dates['weekday']) & (experiment_dates['bank_holiday'] == False)].sample(1).index\n",
    "\n",
    "elif stratum == 'Saturday':\n",
    "    study_date = experiment_dates[(experiment_dates['saturday']) & (experiment_dates['bank_holiday'] == False)].sample(1).index\n",
    "\n",
    "elif stratum == 'bh':\n",
    "    study_date = experiment_dates[experiment_dates['bank_holiday']].sample(1).index\n",
    "\n",
    "# Create Time Domain\n",
    "startHour = stratumDict[stratum]['startHour']\n",
    "startMinute = stratumDict[stratum]['startMinute']\n",
    "endHour = stratumDict[stratum]['endHour']\n",
    "endMinute = stratumDict[stratum]['endMinute']\n",
    "\n",
    "start = datetime(year=2012, month=2, day=25, hour=startHour, minute = startMinute)\n",
    "end = datetime(year=2012, month=2, day=25, hour=endHour, minute = endMinute)\n",
    "diff = end - start\n",
    "minutesInInterval = diff.total_seconds()/60\n",
    "hoursInInterval = minutesInInterval/60\n",
    "\n",
    "timeDomain = []\n",
    "\n",
    "for i in range(50):\n",
    "    randStartTime = start + timedelta(minutes=random.randint(1, int(minutesInInterval)))\n",
    "    if randStartTime not in timeDomain:\n",
    "        timeDomain.append(str(randStartTime.hour).zfill(2)+':'+str(randStartTime.minute).zfill(2))"
   ]
  },
  {
   "cell_type": "markdown",
   "metadata": {},
   "source": [
    "Cost trips using OTP2"
   ]
  },
  {
   "cell_type": "code",
   "execution_count": 8,
   "metadata": {},
   "outputs": [],
   "source": [
    "import csv\n",
    "import os, urllib, json, csv, zipfile, math\n",
    "import time"
   ]
  },
  {
   "cell_type": "code",
   "execution_count": 9,
   "metadata": {},
   "outputs": [
    {
     "name": "stdout",
     "output_type": "stream",
     "text": [
      "Num Rows : 45000\n",
      "0\n",
      "500\n",
      "1000\n",
      "1500\n",
      "2000\n",
      "2500\n",
      "3000\n",
      "3500\n",
      "4000\n",
      "4500\n",
      "5000\n",
      "5500\n",
      "6000\n",
      "6500\n",
      "7000\n",
      "7500\n",
      "8000\n",
      "8500\n",
      "9000\n",
      "9500\n",
      "10000\n",
      "10500\n",
      "11000\n",
      "11500\n",
      "12000\n",
      "12500\n",
      "13000\n",
      "13500\n",
      "14000\n",
      "14500\n",
      "15000\n",
      "15500\n",
      "16000\n",
      "16500\n",
      "17000\n",
      "17500\n",
      "18000\n",
      "18500\n",
      "19000\n",
      "19500\n",
      "20000\n",
      "20500\n",
      "21000\n",
      "21500\n",
      "22000\n",
      "22500\n",
      "23000\n",
      "23500\n",
      "24000\n",
      "24500\n",
      "25000\n",
      "25500\n",
      "26000\n",
      "26500\n",
      "27000\n",
      "27500\n",
      "28000\n",
      "28500\n",
      "29000\n",
      "29500\n",
      "30000\n",
      "30500\n",
      "31000\n",
      "31500\n",
      "32000\n",
      "32500\n",
      "33000\n",
      "33500\n",
      "34000\n",
      "34500\n",
      "35000\n",
      "35500\n",
      "36000\n",
      "36500\n",
      "37000\n",
      "37500\n",
      "38000\n",
      "38500\n",
      "39000\n",
      "39500\n",
      "40000\n",
      "40500\n",
      "41000\n",
      "41500\n",
      "42000\n",
      "42500\n",
      "43000\n",
      "43500\n",
      "44000\n",
      "44500\n"
     ]
    }
   ],
   "source": [
    "print('Num Rows : {}'.format(len(oaSample) * len(POISample) * len(timeDomain)))\n",
    "\n",
    "otp_url = 'http://localhost:8080/otp/routers/default/plan?'\n",
    "output_file = open('tempdata/tripscosts_otp.csv', 'w')\n",
    "writer = csv.writer(output_file)\n",
    "writer.writerow(['trip_id','date','time','oa_id','poi_id','itiniery_id','duration','walk_time','wait_time','transit_time','initial_wait_time','transfers','fare','routing_cost'])\n",
    "\n",
    "trip_id = 0\n",
    "itin_id = 0\n",
    "trip_date = study_date[0].strftime('%m/%d/%Y')\n",
    "\n",
    "failed_routes_list = []\n",
    "\n",
    "for oind, orow in oaSample.iterrows():\n",
    "    for pind,prow in POISample.iterrows():\n",
    "        for t in timeDomain:\n",
    "            if trip_id % 500 == 0:\n",
    "                print(trip_id)\n",
    "                \n",
    "            params = {}\n",
    "            params['date'] = trip_date\n",
    "            params['time'] = t\n",
    "            params['fromPlace'] = '%s,%s' % (orow['oa_lat'], orow['oa_lon'])\n",
    "            params['toPlace'] = '%s,%s' % (prow['poi_lat'], prow['poi_lon'])\n",
    "            params['mode'] = 'WALK,TRANSIT'\n",
    "            params['arriveBy'] = 'false'\n",
    "            params['numItineraries'] = '1'\n",
    "            params['walkReluctance'] = '20'\n",
    "\n",
    "            t0 = time.time()\n",
    "            req = urllib.request.Request(otp_url + urllib.parse.urlencode(params))\n",
    "            req.add_header('Accept', 'application/json')\n",
    "            response = urllib.request.urlopen(req)\n",
    "            content = response.read()\n",
    "            objs = json.loads(content)\n",
    "            t1 = time.time()\n",
    "\n",
    "            if len(objs['plan']['itineraries']) == 0:\n",
    "                fail_append = {}\n",
    "                fail_append['oa'] = orow['oa_id']\n",
    "                fail_append['poi'] = prow['poi_id']\n",
    "                fail_append['time'] = t\n",
    "                failed_routes_list.append(fail_append)\n",
    "                pass\n",
    "            else:\n",
    "                i = objs['plan']['itineraries'][0]\n",
    "\n",
    "            if i['transitTime'] == 0:\n",
    "                fare = 0\n",
    "            else:\n",
    "                fare = (i['transfers'] + 1) * 2.4\n",
    "\n",
    "            query_time = datetime.strptime(t, '%H:%M').time()\n",
    "            departure_time = datetime.fromtimestamp(float(i['startTime']) / 1000).time()\n",
    "            initial_wait_time = (datetime.combine(datetime.today(), departure_time) - datetime.combine(datetime.today(), query_time)).total_seconds()\n",
    "\n",
    "            row = [trip_id,trip_date,t,orow['oa_id'],prow['poi_id'],itin_id,i['duration'],i['walkTime'],i['waitingTime'],i['transitTime'],initial_wait_time,i['transfers'],fare,(t1-t0)]\n",
    "            writer.writerow(row)\n",
    "\n",
    "            trip_id += 1\n",
    "\n",
    "output_file.close()\n",
    "failed_routes = pd.DataFrame(failed_routes_list)"
   ]
  },
  {
   "cell_type": "code",
   "execution_count": 10,
   "metadata": {},
   "outputs": [],
   "source": [
    "trips = pd.read_csv('tempdata/tripscosts_otp.csv')\n",
    "\n",
    "#Compute generalised access cost\n",
    "trips['gac'] = (( 1.5 * (trips['duration'])) - (0.5 * trips['transit_time']) + ((trips['fare'] * 3600) / 6.7) + (10 * trips['transfers'])) / 60\n",
    "trips['att'] = trips['poi_id'].map(attractivnessDict)"
   ]
  },
  {
   "cell_type": "code",
   "execution_count": 11,
   "metadata": {},
   "outputs": [
    {
     "name": "stdout",
     "output_type": "stream",
     "text": [
      "Gravity model run\n"
     ]
    }
   ],
   "source": [
    "#Gravity Model Ground Truth\n",
    "\n",
    "trips['dist decay'] = vfunc(np.array(trips['gac']),decay_constant, exponent)\n",
    "trips['grav'] = trips['dist decay'] * trips['att']\n",
    "gravity = trips.groupby('oa_id').sum()['grav']\n",
    "print('Gravity model run')"
   ]
  },
  {
   "cell_type": "markdown",
   "metadata": {},
   "source": [
    "Get Results KNN"
   ]
  },
  {
   "cell_type": "code",
   "execution_count": 13,
   "metadata": {},
   "outputs": [
    {
     "data": {
      "image/png": "[encoded data removed]",
      "text/plain": [
       "<Figure size 640x480 with 1 Axes>"
      ]
     },
     "metadata": {},
     "output_type": "display_data"
    }
   ],
   "source": [
    "#for k in [5,10,15,20,25]:\n",
    "k = 20\n",
    "knn = NearestNeighbors(n_neighbors=k)\n",
    "knn.fit(POISample[['poi_lon','poi_lat']].values)\n",
    "kResList = []\n",
    "countOrigins = 0\n",
    "\n",
    "for oind, orow in oaSample.iterrows():\n",
    "    distances, indices = knn.kneighbors(orow[['oa_lon','oa_lat']].values.reshape(1, -1))\n",
    "    oCosts = []\n",
    "    oTrips = 0\n",
    "    oTimes = 0\n",
    "\n",
    "    for i in indices[0]:\n",
    "        pid = POISample.iloc[i]['poi_id']\n",
    "        trips_sample = trips[(trips['oa_id'] == orow['oa_id']) & (trips['poi_id'] == pid)]\n",
    "        oCosts = oCosts + list(trips_sample['gac'])\n",
    "        oTrips += len(trips_sample)\n",
    "        oTimes += trips_sample['routing_cost'].sum()\n",
    "\n",
    "    kResAppend = {}\n",
    "    kResAppend['oa_id'] = orow['oa_id']\n",
    "    kResAppend['knn_ac'] = statistics.mean(oCosts)\n",
    "    kResList.append(kResAppend)\n",
    "\n",
    "knnres = pd.DataFrame(kResList).set_index('oa_id')\n",
    "\n",
    "plt.scatter(gravity,knnres)\n",
    "plt.show()"
   ]
  },
  {
   "cell_type": "markdown",
   "metadata": {},
   "source": [
    "Get Results Spatial Clustering\n",
    "\n",
    "To do : attractiveness weighting"
   ]
  },
  {
   "cell_type": "markdown",
   "metadata": {},
   "source": [
    "kmeans"
   ]
  },
  {
   "cell_type": "code",
   "execution_count": 15,
   "metadata": {},
   "outputs": [
    {
     "name": "stdout",
     "output_type": "stream",
     "text": [
      "[1 1 3 3 3 2 1 3 3 1 4 3 1 4 1 4 0 1 1 4 2 0 2 3 4 4 3 4 4 3]\n"
     ]
    },
    {
     "name": "stderr",
     "output_type": "stream",
     "text": [
      "/tmp/ipykernel_9961/1094574223.py:29: FutureWarning: The behavior of DataFrame concatenation with empty or all-NA entries is deprecated. In a future version, this will no longer exclude empty or all-NA columns when determining the result dtypes. To retain the old behavior, exclude the relevant entries before the concat operation.\n",
      "  flows_df = pd.concat((flows_df,flow_gac),ignore_index=True)\n"
     ]
    },
    {
     "data": {
      "image/png": "[encoded data removed]",
      "text/plain": [
       "<Figure size 640x480 with 1 Axes>"
      ]
     },
     "metadata": {},
     "output_type": "display_data"
    }
   ],
   "source": [
    "num_clusters = 5\n",
    "kmeans = KMeans(n_clusters=num_clusters, random_state=0, n_init=\"auto\").fit(POISample[['poi_lon','poi_lat']].values)\n",
    "\n",
    "# Get cluster labels and centroids\n",
    "cluster_labels = kmeans.labels_\n",
    "POISample['cluster'] = cluster_labels\n",
    "print(cluster_labels)\n",
    "flows_df = pd.DataFrame(columns = ['oa_id','poi_id','time','gac'])\n",
    "for cluster in set(cluster_labels):\n",
    "    if cluster == -1:\n",
    "        for c_ind in np.where(cluster_labels == cluster)[0]:\n",
    "            flow_id = POISample.iloc[c_ind]['poi_id']\n",
    "\n",
    "            for oa in list(oaSample['oa_id']):\n",
    "                flow_gac = trips[(trips['oa_id'] == oa) & (trips['poi_id'] == flow_id)][['oa_id','poi_id','time','gac']]\n",
    "                flows_df = pd.concat((flows_df,flow_gac),ignore_index=True)\n",
    "    else:\n",
    "        points_in_cluster = np.where(cluster_labels == cluster)[0]\n",
    "        centroid = [POISample[POISample['cluster'] == cluster]['poi_lon'].mean(),POISample[POISample['cluster'] == cluster]['poi_lat'].mean()]\n",
    "        distances_to_centroid = np.linalg.norm(POISample[['poi_lon','poi_lat']].values[points_in_cluster] - POISample[['poi_lon','poi_lat']].values[points_in_cluster].mean(axis = 0), axis=1)\n",
    "        # Find the index of the point closest to the centroid\n",
    "        closest_point_index = points_in_cluster[np.argmin(distances_to_centroid)]\n",
    "        flow_id = POISample.iloc[closest_point_index]['poi_id']\n",
    "\n",
    "        for oa in list(oaSample['oa_id']):\n",
    "            flow_gac = trips[(trips['oa_id'] == oa) & (trips['poi_id'] == flow_id)][['oa_id','poi_id','time','gac']]\n",
    "            for poi in points_in_cluster:\n",
    "                flow_gac['poi_id'] = poi\n",
    "                flows_df = pd.concat((flows_df,flow_gac),ignore_index=True)\n",
    "\n",
    "flows_df['att'] = flows_df['poi_id'].map(attractivnessDict)\n",
    "\n",
    "flows_df['dist decay'] = vfunc(np.array(flows_df['gac']),decay_constant, exponent)\n",
    "flows_df['grav'] = flows_df['dist decay'] * flows_df['att']\n",
    "kmeans = flows_df.groupby('oa_id').sum()['grav']\n",
    "\n",
    "plt.scatter(gravity,kmeans)\n",
    "plt.show()"
   ]
  },
  {
   "cell_type": "markdown",
   "metadata": {},
   "source": [
    "DBSCAN"
   ]
  },
  {
   "cell_type": "code",
   "execution_count": 16,
   "metadata": {},
   "outputs": [
    {
     "name": "stdout",
     "output_type": "stream",
     "text": [
      "Cluster Labels : [-1  0  1  2  1 -1 -1  1  2  3 -1  2  3  4 -1 -1  5  0 -1 -1 -1  5 -1  2\n",
      "  4 -1 -1 -1  4  2]\n"
     ]
    },
    {
     "name": "stderr",
     "output_type": "stream",
     "text": [
      "/tmp/ipykernel_9961/2292747259.py:31: FutureWarning: The behavior of DataFrame concatenation with empty or all-NA entries is deprecated. In a future version, this will no longer exclude empty or all-NA columns when determining the result dtypes. To retain the old behavior, exclude the relevant entries before the concat operation.\n",
      "  flows_df = pd.concat((flows_df,flow_gac),ignore_index=True)\n"
     ]
    },
    {
     "data": {
      "image/png": "[encoded data removed]",
      "text/plain": [
       "<Figure size 640x480 with 1 Axes>"
      ]
     },
     "metadata": {},
     "output_type": "display_data"
    }
   ],
   "source": [
    "dbscan = DBSCAN(eps=0.01, min_samples=2).fit(POISample[['poi_lon','poi_lat']].values)\n",
    "\n",
    "# Get cluster labels and centroids\n",
    "cluster_labels = dbscan.labels_\n",
    "POISample['cluster'] = cluster_labels\n",
    "\n",
    "print('Cluster Labels : {}'.format(cluster_labels))\n",
    "\n",
    "flows_df = pd.DataFrame(columns = ['oa_id','poi_id','time','gac'])\n",
    "\n",
    "for cluster in set(cluster_labels):\n",
    "    if cluster == -1:\n",
    "        for c_ind in np.where(cluster_labels == cluster)[0]:\n",
    "            flow_id = POISample.iloc[c_ind]['poi_id']\n",
    "\n",
    "            for oa in list(oaSample['oa_id']):\n",
    "                flow_gac = trips[(trips['oa_id'] == oa) & (trips['poi_id'] == flow_id)][['oa_id','poi_id','time','gac']]\n",
    "                flows_df = pd.concat((flows_df,flow_gac),ignore_index=True)\n",
    "    else:\n",
    "        points_in_cluster = np.where(cluster_labels == cluster)[0]\n",
    "        centroid = [POISample[POISample['cluster'] == cluster]['poi_lon'].mean(),POISample[POISample['cluster'] == cluster]['poi_lat'].mean()]\n",
    "        distances_to_centroid = np.linalg.norm(POISample[['poi_lon','poi_lat']].values[points_in_cluster] - POISample[['poi_lon','poi_lat']].values[points_in_cluster].mean(axis = 0), axis=1)\n",
    "        # Find the index of the point closest to the centroid\n",
    "        closest_point_index = points_in_cluster[np.argmin(distances_to_centroid)]\n",
    "        flow_id = POISample.iloc[closest_point_index]['poi_id']\n",
    "\n",
    "        for oa in list(oaSample['oa_id']):\n",
    "            flow_gac = trips[(trips['oa_id'] == oa) & (trips['poi_id'] == flow_id)][['oa_id','poi_id','time','gac']]\n",
    "            for poi in points_in_cluster:\n",
    "                flow_gac['poi_id'] = poi\n",
    "                flows_df = pd.concat((flows_df,flow_gac),ignore_index=True)\n",
    "\n",
    "flows_df['att'] = flows_df['poi_id'].map(attractivnessDict)\n",
    "\n",
    "flows_df['dist decay'] = vfunc(np.array(flows_df['gac']),decay_constant, exponent)\n",
    "flows_df['grav'] = flows_df['dist decay'] * flows_df['att']\n",
    "dbscan = flows_df.groupby('oa_id').sum()['grav']\n",
    "\n",
    "plt.scatter(gravity,dbscan)\n",
    "plt.show()"
   ]
  },
  {
   "cell_type": "markdown",
   "metadata": {},
   "source": [
    "HDBSCAN"
   ]
  },
  {
   "cell_type": "code",
   "execution_count": 17,
   "metadata": {},
   "outputs": [
    {
     "name": "stdout",
     "output_type": "stream",
     "text": [
      "Cluster Labels : [ 2  3  6 -1  6  0  1  6  9  2  7  8  2  5  1  7  4  3 -1 -1  0  4  0  9\n",
      "  5 -1  5 -1  5  8]\n"
     ]
    },
    {
     "name": "stderr",
     "output_type": "stream",
     "text": [
      "/tmp/ipykernel_9961/3395401731.py:31: FutureWarning: The behavior of DataFrame concatenation with empty or all-NA entries is deprecated. In a future version, this will no longer exclude empty or all-NA columns when determining the result dtypes. To retain the old behavior, exclude the relevant entries before the concat operation.\n",
      "  flows_df = pd.concat((flows_df,flow_gac),ignore_index=True)\n"
     ]
    },
    {
     "data": {
      "image/png": "[encoded data removed]",
      "text/plain": [
       "<Figure size 640x480 with 1 Axes>"
      ]
     },
     "metadata": {},
     "output_type": "display_data"
    }
   ],
   "source": [
    "hdbscan = HDBSCAN(min_cluster_size = 2, min_samples=1).fit(POISample[['poi_lon','poi_lat']].values)\n",
    "\n",
    "# Get cluster labels and centroids\n",
    "cluster_labels = hdbscan.labels_\n",
    "POISample['cluster'] = cluster_labels\n",
    "\n",
    "print('Cluster Labels : {}'.format(cluster_labels))\n",
    "\n",
    "flows_df = pd.DataFrame(columns = ['oa_id','poi_id','time','gac'])\n",
    "\n",
    "for cluster in set(cluster_labels):\n",
    "    if cluster == -1:\n",
    "        for c_ind in np.where(cluster_labels == cluster)[0]:\n",
    "            flow_id = POISample.iloc[c_ind]['poi_id']\n",
    "\n",
    "            for oa in list(oaSample['oa_id']):\n",
    "                flow_gac = trips[(trips['oa_id'] == oa) & (trips['poi_id'] == flow_id)][['oa_id','poi_id','time','gac']]\n",
    "                flows_df = pd.concat((flows_df,flow_gac),ignore_index=True)\n",
    "    else:\n",
    "        points_in_cluster = np.where(cluster_labels == cluster)[0]\n",
    "        centroid = [POISample[POISample['cluster'] == cluster]['poi_lon'].mean(),POISample[POISample['cluster'] == cluster]['poi_lat'].mean()]\n",
    "        distances_to_centroid = np.linalg.norm(POISample[['poi_lon','poi_lat']].values[points_in_cluster] - POISample[['poi_lon','poi_lat']].values[points_in_cluster].mean(axis = 0), axis=1)\n",
    "        # Find the index of the point closest to the centroid\n",
    "        closest_point_index = points_in_cluster[np.argmin(distances_to_centroid)]\n",
    "        flow_id = POISample.iloc[closest_point_index]['poi_id']\n",
    "\n",
    "        for oa in list(oaSample['oa_id']):\n",
    "            flow_gac = trips[(trips['oa_id'] == oa) & (trips['poi_id'] == flow_id)][['oa_id','poi_id','time','gac']]\n",
    "            for poi in points_in_cluster:\n",
    "                flow_gac['poi_id'] = poi\n",
    "                flows_df = pd.concat((flows_df,flow_gac),ignore_index=True)\n",
    "\n",
    "flows_df['att'] = flows_df['poi_id'].map(attractivnessDict)\n",
    "\n",
    "flows_df['dist decay'] = vfunc(np.array(flows_df['gac']),decay_constant, exponent)\n",
    "flows_df['grav'] = flows_df['dist decay'] * flows_df['att']\n",
    "hdbscan = flows_df.groupby('oa_id').sum()['grav']\n",
    "\n",
    "plt.scatter(gravity,hdbscan)\n",
    "plt.show()"
   ]
  },
  {
   "cell_type": "markdown",
   "metadata": {},
   "source": [
    "Get results flow clusering"
   ]
  },
  {
   "cell_type": "code",
   "execution_count": 18,
   "metadata": {},
   "outputs": [],
   "source": [
    "flows_index = []\n",
    "o_index = []\n",
    "d_index = []\n",
    "flows = []\n",
    "\n",
    "oind = 0\n",
    "for o in oaSample[['oa_lat','oa_lon','oa_id']].values:\n",
    "    dind = 0\n",
    "    for d in POISample[['poi_lon','poi_lat','poi_id']].values:\n",
    "        flows.append(tuple([o[0], o[1], d[0], d[1]]))\n",
    "        flows_index.append(tuple([o[2],int(d[2])]))\n",
    "        o_index.append(o[2])\n",
    "        d_index.append(int(d[2]))\n",
    "        dind += 1\n",
    "    oind += 1\n",
    "\n",
    "# Calculate CoreD\n",
    "\n",
    "minflows = 3\n",
    "\n",
    "# Create a NearestNeighbors object with a custom distance function\n",
    "neighbors_model = NearestNeighbors(n_neighbors=minflows, algorithm='ball_tree', metric=flowProx)\n",
    "X = np.array(flows)\n",
    "# Fit the model to your data\n",
    "neighbors_model.fit(X)\n",
    "\n",
    "core_distances = []\n",
    "count = 0\n",
    "for i in X:\n",
    "    distances, indices = neighbors_model.kneighbors([i])\n",
    "    core_distances.append(distances[:, -1][0])\n",
    "\n",
    "lst_reshaped = np.array(core_distances).reshape((len(core_distances), 1))\n",
    "X = np.concatenate((X, lst_reshaped), axis=1)"
   ]
  },
  {
   "cell_type": "markdown",
   "metadata": {},
   "source": [
    "HDBSCAN with flow"
   ]
  },
  {
   "cell_type": "code",
   "execution_count": 21,
   "metadata": {},
   "outputs": [
    {
     "name": "stdout",
     "output_type": "stream",
     "text": [
      "[-1 -1 -1 -1 -1  0 -1 -1 -1 -1 -1 -1 -1 -1 -1 -1 -1 -1 -1 -1  0 -1  0 -1\n",
      " -1 -1 -1 -1 -1 -1  3  4  7 -1  7  0  1  7  9  3  8 -1  3  6  1  8  5  4\n",
      " -1 -1  0  5  0  9  6  2  6 -1  6 -1  3  4 -1 -1 -1  0  1  7 -1  3 -1 -1\n",
      "  3  6  1 -1  5  4 -1 -1  0  5  0 -1  6  2 -1 -1  6 -1  3  4  7 -1  7  0\n",
      "  1  7  9  3  8 10  3  6  1  8  5  4 -1 -1  0  5  0  9  6  2  6 -1  6 10\n",
      "  3  4 -1 -1 -1  0  1  7 -1  3 -1 -1  3  6  1 -1  5  4 -1 -1  0  5  0 -1\n",
      "  6 -1 -1 -1  6 -1  3  4  7 -1  7  0  1  7  9  3  8 10  3  6  1  8  5  4\n",
      " -1 -1  0  5  0  9  6  2  6 -1  6 10  3  4  7 -1  7  0  1  7  9  3  8 10\n",
      "  3  6  1  8  5  4 -1 -1  0  5  0  9  6  2  6 -1  6 10  3  4  7 -1  7  0\n",
      "  1  7  9  3  8 10  3  6  1  8  5  4 -1 -1  0  5  0  9  6  2  6 -1  6 10\n",
      "  3  4  7 -1  7  0  1  7  9  3  8 10  3  6  1  8  5  4 -1 -1  0  5  0  9\n",
      "  6  2  6 -1  6 10  3  4  7 -1  7  0  1  7  9  3  8 -1  3  6  1  8  5  4\n",
      " -1 -1  0  5  0  9  6  2  6 -1  6 -1  3  4  7 -1  7  0  1  7  9  3  8 10\n",
      "  3  6  1  8  5  4 -1 -1  0  5  0  9  6  2  6 -1  6 10  3  4  7 -1  7  0\n",
      "  1  7  9  3  8 -1  3  6  1  8  5  4 -1 -1  0  5  0  9  6  2  6 -1  6 -1\n",
      "  3  4  7 -1  7  0  1  7  9  3  8 10  3  6  1  8  5  4 -1 -1  0  5  0  9\n",
      "  6  2  6 -1  6 10  3  4 -1 -1 -1  0  1  7 -1  3 -1 -1  3  6  1 -1  5  4\n",
      " -1 -1  0  5  0 -1  6  2 -1 -1  6 -1  3  4  7 -1  7  0  1  7  9  3  8 10\n",
      "  3  6  1  8  5  4 -1 -1  0  5  0  9  6  2  6 -1  6 10  3  4  7 -1  7  0\n",
      "  1  7  9  3  8 10  3  6  1  8  5  4 -1 -1  0  5  0  9  6  2  6 -1  6 10\n",
      "  3  4  7 -1  7  0  1  7  9  3  8 10  3  6  1  8  5  4 -1 -1  0  5  0  9\n",
      "  6  2  6 -1  6 10  3  4  7 -1  7  0  1  7 -1  3 -1 -1  3  6  1 -1  5  4\n",
      " -1 -1  0  5  0 -1  6  2 -1 -1  6 -1  3  4 -1 -1 -1  0  1  7 -1  3 -1 -1\n",
      "  3  6  1 -1  5  4 -1 -1  0  5  0 -1  6  2 -1 -1  6 -1  3  4  7 -1  7  0\n",
      "  1  7  9  3  8 10  3  6  1  8  5  4 -1 -1  0  5  0  9  6  2  6 -1  6 10\n",
      "  3  4 -1 -1 -1  0  1  7 -1  3 -1 -1  3  6  1 -1  5  4 -1 -1  0  5  0 -1\n",
      "  6  2 -1 -1  6 -1  3  4  7 -1  7  0  1  7  9  3  8 10  3  6  1  8  5  4\n",
      " -1 -1  0  5  0  9  6  2  6 -1  6 10  3  4  7 -1  7  0  1  7  9  3  8 10\n",
      "  3  6  1  8  5  4 -1 -1  0  5  0  9  6  2  6 -1  6 10  3  4  7 -1  7  0\n",
      "  1  7  9  3  8 10  3  6  1  8  5  4 -1 -1  0  5  0  9  6  2  6 -1  6 10\n",
      "  3  4  7 -1  7  0  1  7  9  3  8 10  3  6  1  8  5  4 -1 -1  0  5  0  9\n",
      "  6  2  6 -1  6 10  3  4  7 -1  7  0  1  7  9  3  8 10  3  6  1  8  5  4\n",
      " -1 -1  0  5  0  9  6  2  6 -1  6 10  3  4 -1 -1 -1  0  1  7 -1  3 -1 -1\n",
      "  3  6  1 -1  5  4 -1 -1  0  5  0 -1  6  2 -1 -1  6 -1  3  4  7 -1  7  0\n",
      "  1  7  9  3  8 10  3  6  1  8  5  4 -1 -1  0  5  0  9  6  2  6 -1  6 10\n",
      "  3  4  7 -1  7  0  1  7  9  3  8 10  3  6  1  8  5  4 -1 -1  0  5  0  9\n",
      "  6  2  6 -1  6 10 -1  4 -1 -1 -1  0 -1 -1 -1  3 -1 -1  3  6 -1 -1 -1  4\n",
      " -1 -1  0 -1  0 -1  6 -1 -1 -1  6 -1]\n"
     ]
    }
   ],
   "source": [
    "# Get flow\n",
    "# Cluster flows\n",
    "\n",
    "hdb = HDBSCAN(min_cluster_size=25, min_samples=10, metric=getminreach).fit(X)\n",
    "cluster_labels = hdb.labels_\n",
    "\n",
    "print(cluster_labels)\n"
   ]
  },
  {
   "cell_type": "code",
   "execution_count": 22,
   "metadata": {},
   "outputs": [
    {
     "name": "stderr",
     "output_type": "stream",
     "text": [
      "/tmp/ipykernel_9961/3849458057.py:24: FutureWarning: The behavior of DataFrame concatenation with empty or all-NA entries is deprecated. In a future version, this will no longer exclude empty or all-NA columns when determining the result dtypes. To retain the old behavior, exclude the relevant entries before the concat operation.\n",
      "  flows_df = pd.concat((flows_df,flow_gac),ignore_index=True)\n"
     ]
    },
    {
     "data": {
      "image/png": "[encoded data removed]",
      "text/plain": [
       "<Figure size 640x480 with 1 Axes>"
      ]
     },
     "metadata": {},
     "output_type": "display_data"
    }
   ],
   "source": [
    "\n",
    "flows_df = pd.DataFrame(columns = ['oa_id','poi_id','time','gac'])\n",
    "for cluster in set(cluster_labels):\n",
    "    if cluster == -1:\n",
    "        cluster_indeces = np.where(cluster_labels==cluster)[0]\n",
    "        for c_ind in cluster_indeces:\n",
    "            flow_gac = trips[(trips['oa_id'] == o_index[c_ind]) & (trips['poi_id'] == d_index[c_ind])][['oa_id','poi_id','time','gac']]\n",
    "            flows_df = pd.concat((flows_df,flow_gac),ignore_index=True)\n",
    "    else:\n",
    "        cluster_indeces = np.where(cluster_labels==cluster)[0]\n",
    "        #Select origin of best flow\n",
    "        oas_in_flow = list(set([o_index[i] for i in cluster_indeces]))\n",
    "        distances_to_centroid = np.linalg.norm(oaSample.set_index('oa_id').loc[oas_in_flow].values - oaSample.set_index('oa_id').loc[oas_in_flow].values.mean(axis = 0),axis=1)\n",
    "        flow_oa = oas_in_flow[np.argmin(distances_to_centroid)]\n",
    "        #Select destination of best flow\n",
    "        poi_ids = list(set([d_index[i] for i in cluster_indeces]))\n",
    "        distances_to_centroid = np.linalg.norm(POISample.set_index('poi_id').loc[poi_ids][['poi_lon','poi_lat']].values - POISample.set_index('poi_id').loc[poi_ids][['poi_lon','poi_lat']].values.mean(axis = 0),axis = 1)\n",
    "        flow_poi = poi_ids[np.argmin(distances_to_centroid)]\n",
    "        #measure GAC for all time steps\n",
    "        flow_gac = trips[(trips['oa_id'] == flow_oa) & (trips['poi_id'] == flow_poi)][['oa_id','poi_id','time','gac']]\n",
    "        for oa in oas_in_flow:\n",
    "            for poi in poi_ids:\n",
    "                flow_gac['oa_id'] = oa\n",
    "                flow_gac['poi_id'] = poi\n",
    "                flows_df = pd.concat((flows_df,flow_gac),ignore_index=True)\n",
    "\n",
    "flows_df['att'] = flows_df['poi_id'].map(attractivnessDict)\n",
    "\n",
    "flows_df['dist decay'] = vfunc(np.array(flows_df['gac']),decay_constant, exponent)\n",
    "flows_df['grav'] = flows_df['dist decay'] * flows_df['att']\n",
    "flowhdbscan = flows_df.groupby('oa_id').sum()['grav']\n",
    "\n",
    "plt.scatter(gravity,flowhdbscan)\n",
    "plt.show()"
   ]
  },
  {
   "cell_type": "markdown",
   "metadata": {},
   "source": [
    "Get Results trip generator"
   ]
  },
  {
   "cell_type": "code",
   "execution_count": null,
   "metadata": {},
   "outputs": [],
   "source": []
  }
 ],
 "metadata": {
  "kernelspec": {
   "display_name": "access",
   "language": "python",
   "name": "python3"
  },
  "language_info": {
   "codemirror_mode": {
    "name": "ipython",
    "version": 3
   },
   "file_extension": ".py",
   "mimetype": "text/x-python",
   "name": "python",
   "nbconvert_exporter": "python",
   "pygments_lexer": "ipython3",
   "version": "3.12.2"
  }
 },
 "nbformat": 4,
 "nbformat_minor": 2
}
