{
 "cells": [
  {
   "cell_type": "code",
   "execution_count": 2,
   "metadata": {},
   "outputs": [
    {
     "name": "stderr",
     "output_type": "stream",
     "text": [
      "/tmp/ipykernel_64560/4080736814.py:1: DeprecationWarning: \n",
      "Pyarrow will become a required dependency of pandas in the next major release of pandas (pandas 3.0),\n",
      "(to allow more performant data types, such as the Arrow string type, and better interoperability with other libraries)\n",
      "but was not found to be installed on your system.\n",
      "If this would cause problems for you,\n",
      "please provide us feedback at https://github.com/pandas-dev/pandas/issues/54466\n",
      "        \n",
      "  import pandas as pd\n"
     ]
    }
   ],
   "source": [
    "import pandas as pd"
   ]
  },
  {
   "cell_type": "code",
   "execution_count": 9,
   "metadata": {},
   "outputs": [],
   "source": [
    "cov_files = ['trips_Cov_GP_Surgery.csv','trips_Cov_Hospital.csv','trips_Cov_Job_Centre.csv','trips_Cov_School.csv','trips_Cov_Vaccination_Centre.csv']\n",
    "birm_fils = ['trips_Birm_GP_Surgery.csv','trips_Birm_Hospital.csv','trips_Birm_Job_Centre.csv','trips_Birm_School.csv','trips_Birm_Vaccination_Centre.csv']\n",
    "labels = ['GP','Hospital','Job Centre','School','Vaccination Centre']"
   ]
  },
  {
   "cell_type": "code",
   "execution_count": 3,
   "metadata": {},
   "outputs": [],
   "source": [
    "trips_cov_GP = pd.read_csv('data/old/Unlabelled/')"
   ]
  },
  {
   "cell_type": "code",
   "execution_count": 18,
   "metadata": {},
   "outputs": [],
   "source": [
    "cov_pois_list = []\n",
    "label_ind = 0\n",
    "\n",
    "for f in cov_files:\n",
    "    trips = pd.read_csv('data/old/Unlabelled/{}'.format(f))\n",
    "\n",
    "    for i,r in trips[['poi_id','poi_lat','poi_lon']].drop_duplicates(subset=['poi_id','poi_lat','poi_lon']).iterrows():\n",
    "        append_dict = {}\n",
    "        append_dict['poi_id'] = int(r['poi_id'])\n",
    "        append_dict['poi_lat'] = r['poi_lat']\n",
    "        append_dict['poi_lon'] = r['poi_lon']\n",
    "        append_dict['poi_type'] = labels[label_ind]\n",
    "        cov_pois_list.append(append_dict)\n",
    "    label_ind += 1\n",
    "cov_pois = pd.DataFrame(cov_pois_list)"
   ]
  },
  {
   "cell_type": "code",
   "execution_count": 20,
   "metadata": {},
   "outputs": [
    {
     "ename": "",
     "evalue": "",
     "output_type": "error",
     "traceback": [
      "\u001b[1;31mThe Kernel crashed while executing code in the current cell or a previous cell. \n",
      "\u001b[1;31mPlease review the code in the cell(s) to identify a possible cause of the failure. \n",
      "\u001b[1;31mClick <a href='https://aka.ms/vscodeJupyterKernelCrash'>here</a> for more info. \n",
      "\u001b[1;31mView Jupyter <a href='command:jupyter.viewOutput'>log</a> for further details."
     ]
    }
   ],
   "source": [
    "birm_pois_list = []\n",
    "label_ind = 0\n",
    "\n",
    "for f in birm_fils:\n",
    "    trips = pd.read_csv('data/old/Unlabelled/{}'.format(f))\n",
    "\n",
    "    for i,r in trips[['poi_id','poi_lat','poi_lon']].drop_duplicates(subset=['poi_id','poi_lat','poi_lon']).iterrows():\n",
    "        append_dict = {}\n",
    "        append_dict['poi_id'] = int(r['poi_id'])\n",
    "        append_dict['poi_lat'] = r['poi_lat']\n",
    "        append_dict['poi_lon'] = r['poi_lon']\n",
    "        append_dict['poi_type'] = labels[label_ind]\n",
    "        birm_pois_list.append(append_dict)\n",
    "    label_ind += 1\n",
    "birm_pois = pd.DataFrame(birm_pois_list)"
   ]
  }
 ],
 "metadata": {
  "kernelspec": {
   "display_name": "access",
   "language": "python",
   "name": "python3"
  },
  "language_info": {
   "codemirror_mode": {
    "name": "ipython",
    "version": 3
   },
   "file_extension": ".py",
   "mimetype": "text/x-python",
   "name": "python",
   "nbconvert_exporter": "python",
   "pygments_lexer": "ipython3",
   "version": "3.12.1"
  }
 },
 "nbformat": 4,
 "nbformat_minor": 2
}
