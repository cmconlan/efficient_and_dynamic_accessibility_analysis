{
 "cells": [
  {
   "cell_type": "markdown",
   "metadata": {},
   "source": [
    "### Investigate Clustering Algorithms\n",
    "\n",
    "To investigate\n",
    "\n",
    "- k-means\n",
    "- DBSCAN\n",
    "- Weighted versions of above\n",
    "\n",
    "\n",
    "Process\n",
    "\n",
    "- Get POIs from area of study\n",
    "- Randomly samply some POIs\n",
    "- Cluster testing different params and observe results\n",
    "- Translate findings to sparsification techniques"
   ]
  },
  {
   "cell_type": "code",
   "execution_count": 46,
   "metadata": {},
   "outputs": [],
   "source": [
    "import pandas as pd\n",
    "import geopandas as gpd\n",
    "from shapely import Point\n",
    "\n"
   ]
  },
  {
   "cell_type": "code",
   "execution_count": 2,
   "metadata": {},
   "outputs": [],
   "source": [
    "#Import OAs\n",
    "#import OA data\n",
    "wm_oas = gpd.read_file('data/west_midlands_OAs/west_midlands_OAs.shp')\n",
    "wm_oas = wm_oas[wm_oas['LAD11CD'] == 'E08000026']\n",
    "oa_info = pd.read_csv('data/oa_info.csv')\n",
    "oa_info = oa_info.merge(wm_oas[['OA11CD']], left_on = 'oa_id', right_on = 'OA11CD', how = 'inner')\n",
    "oaIndex = list(oa_info['oa_id'])\n",
    "oaLatLon = oa_info[['oa_lon','oa_lat']].values"
   ]
  },
  {
   "cell_type": "code",
   "execution_count": 3,
   "metadata": {},
   "outputs": [],
   "source": [
    "#import POI data\n",
    "pois = pd.read_csv('data/POIs/pois.csv', index_col=0)\n",
    "\n",
    "#Select local POIs\n",
    "poisInRegion = []\n",
    "\n",
    "for i,r in pois.iterrows():\n",
    "    poiPoint = Point(tuple(list(r[['poi_lon','poi_lat']])))\n",
    "    \n",
    "    for i2, r2 in wm_oas.iterrows():\n",
    "        if r2['geometry'].intersects(poiPoint):\n",
    "            poisInRegion.append(r['poi_id'])\n",
    "\n",
    "pois = pois[pois['poi_id'].isin(poisInRegion)]\n",
    "poiIndex = list(pois['poi_id'])\n",
    "poisLatLon = pois[['poi_lat','poi_lon']].values\n"
   ]
  },
  {
   "cell_type": "code",
   "execution_count": 22,
   "metadata": {},
   "outputs": [],
   "source": [
    "\n",
    "poiRand = pois.sample(50)\n",
    "poiIndex = list(poiRand['poi_id'])\n",
    "poisLatLon = poiRand[['poi_lat','poi_lon']].values"
   ]
  },
  {
   "cell_type": "code",
   "execution_count": 4,
   "metadata": {},
   "outputs": [],
   "source": [
    "# k-means clustering\n",
    "\n",
    "from sklearn.cluster import KMeans\n",
    "import numpy as np"
   ]
  },
  {
   "cell_type": "code",
   "execution_count": 23,
   "metadata": {},
   "outputs": [],
   "source": [
    "num_clusters = 5\n",
    "kmeans = KMeans(n_clusters=num_clusters, random_state=0, n_init=\"auto\").fit(poisLatLon)"
   ]
  },
  {
   "cell_type": "code",
   "execution_count": 24,
   "metadata": {},
   "outputs": [
    {
     "name": "stdout",
     "output_type": "stream",
     "text": [
      "Indices of points closest to centroids: [10, 25, 28, 43, 18]\n"
     ]
    }
   ],
   "source": [
    "# Get cluster labels and centroids\n",
    "cluster_labels = kmeans.labels_\n",
    "centroids = kmeans.cluster_centers_\n",
    "\n",
    "# Initialize an array to store the index of the point closest to the centroid in each cluster\n",
    "closest_points_indices = []\n",
    "\n",
    "# Iterate through each cluster\n",
    "for cluster_id in range(num_clusters):\n",
    "    # Get the indices of points in the current cluster\n",
    "    points_in_cluster = np.where(cluster_labels == cluster_id)[0]\n",
    "    \n",
    "    # Calculate distances between each point in the cluster and its centroid\n",
    "    distances_to_centroid = np.linalg.norm(poisLatLon[points_in_cluster] - centroids[cluster_id], axis=1)\n",
    "    \n",
    "    # Find the index of the point closest to the centroid\n",
    "    closest_point_index = points_in_cluster[np.argmin(distances_to_centroid)]\n",
    "    \n",
    "    # Store the index in the array\n",
    "    closest_points_indices.append(closest_point_index)\n",
    "\n",
    "# Print the indices of points closest to the centroids\n",
    "print(\"Indices of points closest to centroids:\", closest_points_indices)"
   ]
  },
  {
   "cell_type": "code",
   "execution_count": 25,
   "metadata": {},
   "outputs": [],
   "source": [
    "#Append cluster label to POIs\n",
    "poiRand['kmcluster'] = cluster_labels"
   ]
  },
  {
   "cell_type": "code",
   "execution_count": 26,
   "metadata": {},
   "outputs": [],
   "source": [
    "#Indicate if POI closest point\n",
    "poi_centroid =[]\n",
    "for i in range(len(poiRand)):\n",
    "    if i in closest_points_indices:\n",
    "        poi_centroid.append('Y')\n",
    "    else:\n",
    "        poi_centroid.append('N')\n",
    "poiRand['kmpoi_centroid'] = poi_centroid"
   ]
  },
  {
   "cell_type": "code",
   "execution_count": 27,
   "metadata": {},
   "outputs": [],
   "source": [
    "#Output dataset as geodataframe\n",
    "\n",
    "geometries = []\n",
    "for i,r in poiRand.iterrows():\n",
    "    geometries.append(Point(r['poi_lon'],r['poi_lat']))\n",
    "\n",
    "poiRand['geometry'] = geometries"
   ]
  },
  {
   "cell_type": "code",
   "execution_count": null,
   "metadata": {},
   "outputs": [],
   "source": [
    "# Weighted k-means clustering"
   ]
  },
  {
   "cell_type": "code",
   "execution_count": 15,
   "metadata": {},
   "outputs": [],
   "source": [
    "#DBSCAN\n",
    "\n",
    "from sklearn.cluster import DBSCAN"
   ]
  },
  {
   "cell_type": "code",
   "execution_count": 44,
   "metadata": {},
   "outputs": [
    {
     "name": "stdout",
     "output_type": "stream",
     "text": [
      "dbcluster\n",
      "-1    14\n",
      " 2    12\n",
      " 0     4\n",
      " 3     4\n",
      " 4     4\n",
      " 1     3\n",
      " 8     3\n",
      " 5     2\n",
      " 6     2\n",
      " 7     2\n",
      "Name: count, dtype: int64\n"
     ]
    }
   ],
   "source": [
    "dbscan_clustering = DBSCAN(eps=0.01, min_samples=2).fit(poisLatLon)\n",
    "\n",
    "# Get cluster labels and centroids\n",
    "cluster_labels = dbscan_clustering.labels_\n",
    "\n",
    "poiRand['dbcluster'] = cluster_labels\n",
    "\n",
    "print(poiRand['dbcluster'].value_counts())"
   ]
  },
  {
   "cell_type": "code",
   "execution_count": 29,
   "metadata": {},
   "outputs": [],
   "source": []
  },
  {
   "cell_type": "code",
   "execution_count": 45,
   "metadata": {},
   "outputs": [],
   "source": [
    "poi_gdf = gpd.GeoDataFrame(poiRand[['geometry','kmcluster','kmpoi_centroid','dbcluster']], geometry = poiRand['geometry'])\n",
    "poi_gdf.to_file('data/outputs/poi-kmeans.geojson', driver='GeoJSON')  "
   ]
  },
  {
   "cell_type": "code",
   "execution_count": null,
   "metadata": {},
   "outputs": [],
   "source": []
  }
 ],
 "metadata": {
  "kernelspec": {
   "display_name": "access",
   "language": "python",
   "name": "python3"
  },
  "language_info": {
   "codemirror_mode": {
    "name": "ipython",
    "version": 3
   },
   "file_extension": ".py",
   "mimetype": "text/x-python",
   "name": "python",
   "nbconvert_exporter": "python",
   "pygments_lexer": "ipython3",
   "version": "3.12.1"
  }
 },
 "nbformat": 4,
 "nbformat_minor": 2
}
