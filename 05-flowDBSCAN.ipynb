{
 "cells": [
  {
   "cell_type": "markdown",
   "metadata": {},
   "source": [
    "### Python Implementation of flowDBSCAN"
   ]
  },
  {
   "cell_type": "code",
   "execution_count": 19,
   "metadata": {},
   "outputs": [],
   "source": [
    "# Import modules and data\n",
    "\n",
    "import pandas as pd\n",
    "import numpy as np\n",
    "import geopandas as gpd\n",
    "from shapely import Point\n",
    "\n",
    "import math\n",
    "\n",
    "def haversine_distance(lat1, lon1, lat2, lon2):\n",
    "    \"\"\"\n",
    "    Calculate the haversine distance between two points given their latitude and longitude.\n",
    "\n",
    "    Parameters:\n",
    "    - lat1, lon1: Latitude and longitude of the first point (in degrees)\n",
    "    - lat2, lon2: Latitude and longitude of the second point (in degrees)\n",
    "\n",
    "    Returns:\n",
    "    The haversine distance in kilometers.\n",
    "    \"\"\"\n",
    "    # Convert latitude and longitude from degrees to radians\n",
    "    lat1, lon1, lat2, lon2 = map(math.radians, [lat1, lon1, lat2, lon2])\n",
    "\n",
    "    # Haversine formula\n",
    "    dlat = lat2 - lat1\n",
    "    dlon = lon2 - lon1\n",
    "    a = math.sin(dlat / 2)**2 + math.cos(lat1) * math.cos(lat2) * math.sin(dlon / 2)**2\n",
    "    c = 2 * math.atan2(math.sqrt(a), math.sqrt(1 - a))\n",
    "\n",
    "    # Radius of the Earth in kilometers (mean value)\n",
    "    earth_radius = 6371.0\n",
    "\n",
    "    # Calculate the haversine distance\n",
    "    distance = earth_radius * c\n",
    "\n",
    "    return distance"
   ]
  },
  {
   "cell_type": "code",
   "execution_count": 17,
   "metadata": {},
   "outputs": [],
   "source": [
    "#Import OAs\n",
    "#import OA data\n",
    "wm_oas = gpd.read_file('data/west_midlands_OAs/west_midlands_OAs.shp')\n",
    "wm_oas = wm_oas[wm_oas['LAD11CD'] == 'E08000026']\n",
    "oa_info = pd.read_csv('data/oa_info.csv')\n",
    "oa_info = oa_info.merge(wm_oas[['OA11CD']], left_on = 'oa_id', right_on = 'OA11CD', how = 'inner')\n",
    "oaIndex = list(oa_info['oa_id'])\n",
    "oaLatLon = oa_info[['oa_lon','oa_lat']].values\n",
    "\n",
    "#import POI data\n",
    "pois = pd.read_csv('data/POIs/pois.csv', index_col=0)\n",
    "\n",
    "#Select local POIs\n",
    "poisInRegion = []\n",
    "\n",
    "for i,r in pois.iterrows():\n",
    "    poiPoint = Point(tuple(list(r[['poi_lon','poi_lat']])))\n",
    "    \n",
    "    for i2, r2 in wm_oas.iterrows():\n",
    "        if r2['geometry'].intersects(poiPoint):\n",
    "            poisInRegion.append(r['poi_id'])\n",
    "\n",
    "pois = pois[pois['poi_id'].isin(poisInRegion)]\n",
    "poiIndex = list(pois['poi_id'])\n",
    "poisLatLon = pois[['poi_lon','poi_lat']].values"
   ]
  },
  {
   "cell_type": "code",
   "execution_count": 18,
   "metadata": {},
   "outputs": [],
   "source": [
    "dist_matrix = np.zeros((len(oaIndex),len(poiIndex)))"
   ]
  },
  {
   "cell_type": "code",
   "execution_count": 26,
   "metadata": {},
   "outputs": [],
   "source": [
    "# Compute straight line distance matrix\n",
    "\n",
    "oind = 0\n",
    "flows = []\n",
    "for o in oaLatLon:\n",
    "    dind = 0\n",
    "    for d in poisLatLon:\n",
    "        dist_matrix[oind,dind] = haversine_distance(o[0], o[1], d[0], d[1])\n",
    "        flows.append(tuple([o[0], o[1], d[0], d[1]]))\n",
    "        dind += 1\n",
    "\n",
    "    oind += 1"
   ]
  },
  {
   "cell_type": "code",
   "execution_count": 45,
   "metadata": {},
   "outputs": [
    {
     "name": "stdout",
     "output_type": "stream",
     "text": [
      "4.746558276908352e-05\n"
     ]
    }
   ],
   "source": [
    "# Calculate distance matrix\n",
    "\n",
    "# For origin and destination define x,y tuples\n",
    "# For all flows in matrix define 4 dimensional tuples (xo, xd, yo, yd)\n",
    "\n",
    "alpha = 1\n",
    "beta = 1\n",
    "gamma = 1\n",
    "\n",
    "i = 0\n",
    "j = 1\n",
    "\n",
    "flow_i = flows[i]\n",
    "flow_j = flows[j]\n",
    "flow_dist_i = dist_matrix[0,0]\n",
    "flow_dist_j = dist_matrix[0,1]\n",
    "\n",
    "dist = (alpha*((flow_i[0] - flow_j[0]) ** 2) + beta*(((flow_i[2] - flow_j[2]) ** 2) + ((flow_i[3] - flow_j[3]) ** 2))) / ((flow_dist_i * flow_dist_j)**gamma)\n",
    "\n",
    "print(dist)"
   ]
  },
  {
   "cell_type": "code",
   "execution_count": 44,
   "metadata": {},
   "outputs": [
    {
     "data": {
      "text/plain": [
       "9.51627805652647"
      ]
     },
     "execution_count": 44,
     "metadata": {},
     "output_type": "execute_result"
    }
   ],
   "source": [
    "flow_dist_j"
   ]
  },
  {
   "cell_type": "code",
   "execution_count": 37,
   "metadata": {},
   "outputs": [
    {
     "data": {
      "text/plain": [
       "0.0"
      ]
     },
     "execution_count": 37,
     "metadata": {},
     "output_type": "execute_result"
    }
   ],
   "source": [
    "((flow_i[0] - flow_j[0]) ** 2) + ((flow_i[1] - flow_j[1]) ** 2)"
   ]
  },
  {
   "cell_type": "code",
   "execution_count": 39,
   "metadata": {},
   "outputs": [
    {
     "data": {
      "text/plain": [
       "0.002303648416997166"
      ]
     },
     "execution_count": 39,
     "metadata": {},
     "output_type": "execute_result"
    }
   ],
   "source": []
  },
  {
   "cell_type": "code",
   "execution_count": 38,
   "metadata": {},
   "outputs": [
    {
     "name": "stdout",
     "output_type": "stream",
     "text": [
      "(-1.530235434, 52.43459291, -1.491767645, 52.40960693)\n",
      "(-1.530235434, 52.43459291, -1.445519686, 52.42244339)\n"
     ]
    }
   ],
   "source": [
    "print(flow_i)\n",
    "print(flow_j)"
   ]
  },
  {
   "cell_type": "code",
   "execution_count": null,
   "metadata": {},
   "outputs": [],
   "source": [
    "# Calculate CoreD"
   ]
  },
  {
   "cell_type": "code",
   "execution_count": null,
   "metadata": {},
   "outputs": [],
   "source": [
    "# Calculate MinReachD matrix"
   ]
  },
  {
   "cell_type": "code",
   "execution_count": null,
   "metadata": {},
   "outputs": [],
   "source": [
    "# Sort MST to get dendogram"
   ]
  },
  {
   "cell_type": "code",
   "execution_count": null,
   "metadata": {},
   "outputs": [],
   "source": [
    "# Simplify Dendogramn based on MinFlow"
   ]
  },
  {
   "cell_type": "code",
   "execution_count": null,
   "metadata": {},
   "outputs": [],
   "source": [
    "# Extract flow clusters"
   ]
  }
 ],
 "metadata": {
  "kernelspec": {
   "display_name": "access",
   "language": "python",
   "name": "python3"
  },
  "language_info": {
   "codemirror_mode": {
    "name": "ipython",
    "version": 3
   },
   "file_extension": ".py",
   "mimetype": "text/x-python",
   "name": "python",
   "nbconvert_exporter": "python",
   "pygments_lexer": "ipython3",
   "version": "3.12.2"
  }
 },
 "nbformat": 4,
 "nbformat_minor": 2
}
