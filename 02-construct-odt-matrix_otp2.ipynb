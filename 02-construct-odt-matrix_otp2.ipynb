{
 "cells": [
  {
   "cell_type": "code",
   "execution_count": 1,
   "metadata": {},
   "outputs": [
    {
     "name": "stderr",
     "output_type": "stream",
     "text": [
      "/tmp/ipykernel_17470/54662247.py:1: DeprecationWarning: \n",
      "Pyarrow will become a required dependency of pandas in the next major release of pandas (pandas 3.0),\n",
      "(to allow more performant data types, such as the Arrow string type, and better interoperability with other libraries)\n",
      "but was not found to be installed on your system.\n",
      "If this would cause problems for you,\n",
      "please provide us feedback at https://github.com/pandas-dev/pandas/issues/54466\n",
      "        \n",
      "  import pandas as pd\n"
     ]
    }
   ],
   "source": [
    "import pandas as pd\n",
    "import geopandas as gpd\n",
    "from shapely import Point\n",
    "from datetime import datetime, timedelta\n",
    "import random"
   ]
  },
  {
   "cell_type": "markdown",
   "metadata": {},
   "source": []
  },
  {
   "cell_type": "code",
   "execution_count": 2,
   "metadata": {},
   "outputs": [],
   "source": [
    "# Read in days from GTFS\n",
    "\n",
    "gtfs_dates = pd.read_csv('data/tfwm_gtfs/calendar_dates.txt', parse_dates=[1])\n",
    "date_counts = gtfs_dates['date'].value_counts().sort_index()\n",
    "\n",
    "#Filter 15th March to 15th April\n",
    "\n",
    "start_date = '2023-03-15'\n",
    "end_date = '2024-04-15'\n",
    "\n",
    "date_counts = pd.DataFrame(date_counts.loc[start_date:end_date])\n",
    "\n",
    "date_counts['weekday'] = date_counts.index.weekday < 5\n",
    "\n",
    "bank_holidays = ['2024-03-29', '2024-04-01']\n",
    "date_counts['bank_holiday'] = date_counts.index.isin(pd.to_datetime(bank_holidays))"
   ]
  },
  {
   "cell_type": "code",
   "execution_count": 3,
   "metadata": {},
   "outputs": [],
   "source": [
    "#Get random date\n",
    "\n",
    "rand_date = date_counts[((date_counts['weekday'] == True) & (date_counts['bank_holiday'] == False))].sample(1).index"
   ]
  },
  {
   "cell_type": "code",
   "execution_count": 10,
   "metadata": {},
   "outputs": [],
   "source": [
    "rand_date = date_counts[((date_counts['weekday'] == True) & (date_counts['bank_holiday'] == False))].iloc[:1].index"
   ]
  },
  {
   "cell_type": "code",
   "execution_count": 4,
   "metadata": {},
   "outputs": [],
   "source": [
    "# Get OAs\n",
    "\n",
    "wm_oas = gpd.read_file('data/west_midlands_OAs/west_midlands_OAs.shp')\n",
    "wm_oas = wm_oas[wm_oas['LAD11CD'] == 'E08000026']\n",
    "oa_info = pd.read_csv('data/oa_info.csv')\n",
    "oa_info = oa_info.merge(wm_oas[['OA11CD']], left_on = 'oa_id', right_on = 'OA11CD', how = 'inner')\n",
    "oaLatLon = oa_info[['oa_id','oa_lon','oa_lat']]"
   ]
  },
  {
   "cell_type": "code",
   "execution_count": 5,
   "metadata": {},
   "outputs": [],
   "source": [
    "# Get POIs\n",
    "\n",
    "pois = pd.read_csv('data/POIs/pois.csv', index_col=0)\n",
    "\n",
    "#Select local POIs\n",
    "poisInRegion = []\n",
    "\n",
    "for i,r in pois.iterrows():\n",
    "    poiPoint = Point(tuple(list(r[['poi_lon','poi_lat']])))\n",
    "    \n",
    "    for i2, r2 in wm_oas.iterrows():\n",
    "        if r2['geometry'].intersects(poiPoint):\n",
    "            poisInRegion.append(r['poi_id'])\n",
    "\n",
    "pois = pois[pois['poi_id'].isin(poisInRegion)]"
   ]
  },
  {
   "cell_type": "code",
   "execution_count": 6,
   "metadata": {},
   "outputs": [],
   "source": [
    "# Get Time Stamps / Time Interval\n",
    "\n",
    "stratumDict = {\n",
    "    'amPeak':{\n",
    "        'startHour' : 6,\n",
    "        'startMinute' : 30,\n",
    "        'endHour' : 8,\n",
    "        'endMinute' : 30,\n",
    "        'day':'tues'\n",
    "        },\n",
    "    'interPeak':{\n",
    "        'startHour' : 11,\n",
    "        'startMinute' : 00,\n",
    "        'endHour' : 16,\n",
    "        'endMinute' : 00,\n",
    "        'day':'tues'\n",
    "        },\n",
    "    'pmPeak':{\n",
    "        'startHour' : 16,\n",
    "        'startMinute' : 30,\n",
    "        'endHour' : 18,\n",
    "        'endMinute' : 30,\n",
    "        'day':'tues'\n",
    "        },\n",
    "    'Saturday':{\n",
    "        'startHour' : 10,\n",
    "        'startMinute' : 00,\n",
    "        'endHour' : 18,\n",
    "        'endMinute' : 00,\n",
    "        'day' : 'sat'\n",
    "        }\n",
    "    }"
   ]
  },
  {
   "cell_type": "code",
   "execution_count": 8,
   "metadata": {},
   "outputs": [],
   "source": [
    "stratum = 'amPeak'\n",
    "\n",
    "# Create Time Domain\n",
    "startHour = stratumDict[stratum]['startHour']\n",
    "startMinute = stratumDict[stratum]['startMinute']\n",
    "endHour = stratumDict[stratum]['endHour']\n",
    "endMinute = stratumDict[stratum]['endMinute']\n",
    "\n",
    "start = datetime(year=2012, month=2, day=25, hour=startHour, minute = startMinute)\n",
    "end = datetime(year=2012, month=2, day=25, hour=endHour, minute = endMinute)\n",
    "diff = end - start\n",
    "minutesInInterval = diff.total_seconds()/60\n",
    "hoursInInterval = minutesInInterval/60\n",
    "\n",
    "timeDomain = []\n",
    "\n",
    "for i in range(300):\n",
    "    randStartTime = start + timedelta(minutes=random.randint(1, int(minutesInInterval)))\n",
    "    timeDomain.append(str(randStartTime.hour).zfill(2)+':'+str(randStartTime.minute).zfill(2))"
   ]
  },
  {
   "cell_type": "code",
   "execution_count": 10,
   "metadata": {},
   "outputs": [],
   "source": [
    "import csv\n",
    "import os, urllib, json, csv, zipfile, math"
   ]
  },
  {
   "cell_type": "code",
   "execution_count": 13,
   "metadata": {},
   "outputs": [
    {
     "name": "stdout",
     "output_type": "stream",
     "text": [
      "Num Rows : 66\n",
      "0\n"
     ]
    }
   ],
   "source": [
    "oa_sample = random.sample(list(oaLatLon.index), 2)\n",
    "poi_sample = pois[pois['type']=='Vaccination Centre'].index\n",
    "time_sample = random.sample(range(len(timeDomain)), 3)\n",
    "\n",
    "print('Num Rows : {}'.format(len(oa_sample) * len(poi_sample) * len(time_sample)))\n",
    "\n",
    "otp_url = 'http://localhost:8080/otp/routers/default/plan?'\n",
    "output_file = open('tempdata/tripscosts_otp2.csv', 'w')\n",
    "writer = csv.writer(output_file)\n",
    "writer.writerow(['trip_id','date','time','oa_id','poi_id','itiniery_id','duration','walk_time','wait_time','transit_time','initial_wait_time','transfers','fare'])\n",
    "\n",
    "trip_id = 0\n",
    "itin_id = 0\n",
    "trip_date = rand_date[0].strftime('%m/%d/%Y')\n",
    "\n",
    "failed_routes_list = []\n",
    "\n",
    "for oa_ind in oa_sample:\n",
    "    for poi_ind in poi_sample:\n",
    "        for t_ind in time_sample:\n",
    "            if trip_id % 500 == 0:\n",
    "                print(trip_id)\n",
    "            next_oa = oaLatLon.loc[oa_ind]\n",
    "            next_poi = pois.loc[poi_ind]\n",
    "            trip_time = timeDomain[t_ind]\n",
    "\n",
    "            params = {}\n",
    "\n",
    "            params['date'] = trip_date\n",
    "            params['time'] = trip_time\n",
    "            params['fromPlace'] = '%s,%s' % (next_oa['oa_lat'], next_oa['oa_lon'])\n",
    "            params['toPlace'] = '%s,%s' % (next_poi['poi_lat'], next_poi['poi_lon'])\n",
    "            params['mode'] = 'WALK,TRANSIT'\n",
    "            params['arriveBy'] = 'false'\n",
    "            params['numItineraries'] = '1'\n",
    "            params['searchWindow'] = 300\n",
    "            params['maxWalkDistance'] = 2000\n",
    "\n",
    "            req = urllib.request.Request(otp_url + urllib.parse.urlencode(params))\n",
    "            req.add_header('Accept', 'application/json')\n",
    "\n",
    "            response = urllib.request.urlopen(req)\n",
    "\n",
    "            content = response.read()\n",
    "            objs = json.loads(content)\n",
    "            if len(objs['plan']['itineraries']) == 0:\n",
    "                fail_append = {}\n",
    "                fail_append['oa'] = next_oa['oa_id']\n",
    "                fail_append['poi'] = next_poi['poi_id']\n",
    "                fail_append['time'] = trip_time\n",
    "                failed_routes_list.append(fail_append)\n",
    "                pass\n",
    "            else:\n",
    "                i = objs['plan']['itineraries'][0]\n",
    "            if i['transitTime'] == 0:\n",
    "                fare = 0\n",
    "            else:\n",
    "                fare = (i['transfers'] + 1) * 2.4\n",
    "\n",
    "            query_time = datetime.strptime(trip_time, '%H:%M').time()\n",
    "            departure_time = datetime.fromtimestamp(float(i['startTime']) / 1000).time()\n",
    "            initial_wait_time = (datetime.combine(datetime.today(), departure_time) - datetime.combine(datetime.today(), query_time)).total_seconds()\n",
    "\n",
    "            row = [trip_id,trip_date,trip_time,next_oa['oa_id'],next_poi['poi_id'],itin_id,i['duration'],i['walkTime'],i['waitingTime'],i['transitTime'],initial_wait_time,i['transfers'],fare]\n",
    "            writer.writerow(row)\n",
    "            trip_id += 1\n",
    "\n",
    "output_file.close()\n",
    "failed_routes = pd.DataFrame(failed_routes_list)"
   ]
  },
  {
   "cell_type": "code",
   "execution_count": 12,
   "metadata": {},
   "outputs": [
    {
     "data": {
      "text/html": [
       "<div>\n",
       "<style scoped>\n",
       "    .dataframe tbody tr th:only-of-type {\n",
       "        vertical-align: middle;\n",
       "    }\n",
       "\n",
       "    .dataframe tbody tr th {\n",
       "        vertical-align: top;\n",
       "    }\n",
       "\n",
       "    .dataframe thead th {\n",
       "        text-align: right;\n",
       "    }\n",
       "</style>\n",
       "<table border=\"1\" class=\"dataframe\">\n",
       "  <thead>\n",
       "    <tr style=\"text-align: right;\">\n",
       "      <th></th>\n",
       "    </tr>\n",
       "  </thead>\n",
       "  <tbody>\n",
       "  </tbody>\n",
       "</table>\n",
       "</div>"
      ],
      "text/plain": [
       "Empty DataFrame\n",
       "Columns: []\n",
       "Index: []"
      ]
     },
     "execution_count": 12,
     "metadata": {},
     "output_type": "execute_result"
    }
   ],
   "source": [
    "failed_routes"
   ]
  },
  {
   "cell_type": "code",
   "execution_count": 136,
   "metadata": {},
   "outputs": [],
   "source": [
    "#Gen access cost\n",
    "#(( 1.5 * (labelledTrips['total_time'])) - (0.5 * labelledTrips['transit_time']) + ((labelledTrips['fare'] * 3600) / 6.7) + (10 * labelledTrips['num_transfers'])) / 60"
   ]
  }
 ],
 "metadata": {
  "kernelspec": {
   "display_name": "access",
   "language": "python",
   "name": "python3"
  },
  "language_info": {
   "codemirror_mode": {
    "name": "ipython",
    "version": 3
   },
   "file_extension": ".py",
   "mimetype": "text/x-python",
   "name": "python",
   "nbconvert_exporter": "python",
   "pygments_lexer": "ipython3",
   "version": "3.12.1"
  }
 },
 "nbformat": 4,
 "nbformat_minor": 2
}
