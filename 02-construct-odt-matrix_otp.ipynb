{
 "cells": [
  {
   "cell_type": "code",
   "execution_count": 1,
   "metadata": {},
   "outputs": [
    {
     "name": "stderr",
     "output_type": "stream",
     "text": [
      "/tmp/ipykernel_7477/3209103574.py:1: DeprecationWarning: \n",
      "Pyarrow will become a required dependency of pandas in the next major release of pandas (pandas 3.0),\n",
      "(to allow more performant data types, such as the Arrow string type, and better interoperability with other libraries)\n",
      "but was not found to be installed on your system.\n",
      "If this would cause problems for you,\n",
      "please provide us feedback at https://github.com/pandas-dev/pandas/issues/54466\n",
      "        \n",
      "  import pandas as pd\n"
     ]
    }
   ],
   "source": [
    "import pandas as pd\n",
    "import geopandas as gpd\n",
    "from shapely import Point\n",
    "#import datetime\n",
    "#from datetime import timedelta\n",
    "from datetime import datetime, timedelta\n",
    "import random"
   ]
  },
  {
   "cell_type": "code",
   "execution_count": 2,
   "metadata": {},
   "outputs": [],
   "source": [
    "# Read in days from GTFS\n",
    "\n",
    "gtfs_dates = pd.read_csv('data/tfwm_gtfs/calendar_dates.txt', parse_dates=[1])\n",
    "date_counts = gtfs_dates['date'].value_counts().sort_index()\n",
    "\n",
    "#Filter 15th March to 15th April\n",
    "\n",
    "start_date = '2023-03-15'\n",
    "end_date = '2024-04-15'\n",
    "\n",
    "date_counts = pd.DataFrame(date_counts.loc[start_date:end_date])\n",
    "\n",
    "date_counts['weekday'] = date_counts.index.weekday < 5\n",
    "\n",
    "bank_holidays = ['2024-03-29', '2024-04-01']\n",
    "date_counts['bank_holiday'] = date_counts.index.isin(pd.to_datetime(bank_holidays))"
   ]
  },
  {
   "cell_type": "code",
   "execution_count": 3,
   "metadata": {},
   "outputs": [],
   "source": [
    "rand_date = date_counts[((date_counts['weekday'] == True) & (date_counts['bank_holiday'] == False))].iloc[:1].index"
   ]
  },
  {
   "cell_type": "code",
   "execution_count": 4,
   "metadata": {},
   "outputs": [],
   "source": [
    "# Get OAs\n",
    "\n",
    "wm_oas = gpd.read_file('data/west_midlands_OAs/west_midlands_OAs.shp')\n",
    "wm_oas = wm_oas[wm_oas['LAD11CD'] == 'E08000026']\n",
    "oa_info = pd.read_csv('data/oa_info.csv')\n",
    "oa_info = oa_info.merge(wm_oas[['OA11CD']], left_on = 'oa_id', right_on = 'OA11CD', how = 'inner')\n",
    "oaLatLon = oa_info[['oa_id','oa_lon','oa_lat']]"
   ]
  },
  {
   "cell_type": "code",
   "execution_count": 5,
   "metadata": {},
   "outputs": [],
   "source": [
    "# Get POIs\n",
    "\n",
    "pois = pd.read_csv('data/POIs/pois.csv', index_col=0)\n",
    "\n",
    "#Select local POIs\n",
    "poisInRegion = []\n",
    "\n",
    "for i,r in pois.iterrows():\n",
    "    poiPoint = Point(tuple(list(r[['poi_lon','poi_lat']])))\n",
    "    \n",
    "    for i2, r2 in wm_oas.iterrows():\n",
    "        if r2['geometry'].intersects(poiPoint):\n",
    "            poisInRegion.append(r['poi_id'])\n",
    "\n",
    "pois = pois[pois['poi_id'].isin(poisInRegion)]"
   ]
  },
  {
   "cell_type": "code",
   "execution_count": 6,
   "metadata": {},
   "outputs": [],
   "source": [
    "# Get Time Stamps / Time Interval\n",
    "\n",
    "stratumDict = {\n",
    "    'amPeak':{\n",
    "        'startHour' : 6,\n",
    "        'startMinute' : 30,\n",
    "        'endHour' : 8,\n",
    "        'endMinute' : 30,\n",
    "        'day':'tues'\n",
    "        },\n",
    "    'interPeak':{\n",
    "        'startHour' : 11,\n",
    "        'startMinute' : 00,\n",
    "        'endHour' : 16,\n",
    "        'endMinute' : 00,\n",
    "        'day':'tues'\n",
    "        },\n",
    "    'pmPeak':{\n",
    "        'startHour' : 16,\n",
    "        'startMinute' : 30,\n",
    "        'endHour' : 18,\n",
    "        'endMinute' : 30,\n",
    "        'day':'tues'\n",
    "        },\n",
    "    'Saturday':{\n",
    "        'startHour' : 10,\n",
    "        'startMinute' : 00,\n",
    "        'endHour' : 18,\n",
    "        'endMinute' : 00,\n",
    "        'day' : 'sat'\n",
    "        }\n",
    "    }"
   ]
  },
  {
   "cell_type": "code",
   "execution_count": 7,
   "metadata": {},
   "outputs": [],
   "source": [
    "stratum = 'amPeak'\n",
    "\n",
    "# Create Time Domain\n",
    "startHour = stratumDict[stratum]['startHour']\n",
    "startMinute = stratumDict[stratum]['startMinute']\n",
    "endHour = stratumDict[stratum]['endHour']\n",
    "endMinute = stratumDict[stratum]['endMinute']\n",
    "\n",
    "start = datetime.datetime(year=2012, month=2, day=25, hour=startHour, minute = startMinute)\n",
    "end = datetime.datetime(year=2012, month=2, day=25, hour=endHour, minute = endMinute)\n",
    "diff = end - start\n",
    "minutesInInterval = diff.total_seconds()/60\n",
    "hoursInInterval = minutesInInterval/60\n",
    "\n",
    "timeDomain = []\n",
    "\n",
    "for i in range(300):\n",
    "    randStartTime = start + timedelta(minutes=random.randint(1, int(minutesInInterval)))\n",
    "    timeDomain.append(str(randStartTime.hour).zfill(2)+':'+str(randStartTime.minute).zfill(2))"
   ]
  },
  {
   "cell_type": "code",
   "execution_count": 8,
   "metadata": {},
   "outputs": [],
   "source": [
    "import csv\n",
    "import os, urllib, json, csv, zipfile, math"
   ]
  },
  {
   "cell_type": "code",
   "execution_count": 39,
   "metadata": {},
   "outputs": [
    {
     "name": "stdout",
     "output_type": "stream",
     "text": [
      "Num Rows : 66\n",
      "0\n"
     ]
    }
   ],
   "source": [
    "oa_sample = random.sample(list(oaLatLon.index), 2)\n",
    "poi_sample = pois[pois['type']=='Vaccination Centre'].index\n",
    "time_sample = random.sample(range(len(timeDomain)), 3)\n",
    "\n",
    "print('Num Rows : {}'.format(len(oa_sample) * len(poi_sample) * len(time_sample)))\n",
    "\n",
    "otp_url = 'http://localhost:8080/otp/routers/default/plan?'\n",
    "output_file = open('tempdata/tripscosts.csv', 'w')\n",
    "writer = csv.writer(output_file)\n",
    "writer.writerow(['trip_id','date','time','oa_id','poi_id','itiniery_id','duration','walk_time','wait_time','transit_time','transfers','fare'])\n",
    "\n",
    "trip_id = 0\n",
    "itin_id = 0\n",
    "trip_date = rand_date[0].strftime('%m/%d/%Y')\n",
    "\n",
    "failed_routes_list = []\n",
    "\n",
    "for oa_ind in oa_sample:\n",
    "    for poi_ind in poi_sample:\n",
    "        for t_ind in time_sample:\n",
    "            if trip_id % 500 == 0:\n",
    "                print(trip_id)\n",
    "            next_oa = oaLatLon.loc[oa_ind]\n",
    "            next_poi = pois.loc[poi_ind]\n",
    "            trip_time = timeDomain[t_ind]\n",
    "\n",
    "            params = {}\n",
    "\n",
    "            params['date'] = trip_date\n",
    "            params['time'] = trip_time\n",
    "            params['fromPlace'] = '%s,%s' % (next_oa['oa_lat'], next_oa['oa_lon'])\n",
    "            params['toPlace'] = '%s,%s' % (next_poi['poi_lat'], next_poi['poi_lon'])\n",
    "            params['mode'] = 'WALK,TRANSIT'\n",
    "            params['arriveBy'] = 'false'\n",
    "            params['numItineraries'] = '1'\n",
    "            params['walkReluctance'] = '20'\n",
    "\n",
    "            req = urllib.request.Request(otp_url + urllib.parse.urlencode(params))\n",
    "            req.add_header('Accept', 'application/json')\n",
    "\n",
    "            response = urllib.request.urlopen(req)\n",
    "\n",
    "            content = response.read()\n",
    "            objs = json.loads(content)\n",
    "            if len(objs['plan']['itineraries']) == 0:\n",
    "                fail_append = {}\n",
    "                fail_append['oa'] = next_oa['oa_id']\n",
    "                fail_append['poi'] = next_poi['poi_id']\n",
    "                fail_append['time'] = trip_time\n",
    "                failed_routes_list.append(fail_append)\n",
    "                pass\n",
    "            else:\n",
    "                i = objs['plan']['itineraries'][0]\n",
    "            if i['transitTime'] == 0:\n",
    "                fare = 0\n",
    "            else:\n",
    "                fare = (i['transfers'] + 1) * 2.4\n",
    "\n",
    "            row = [trip_id,trip_date,trip_time,next_oa['oa_id'],next_poi['poi_id'],itin_id,i['duration'],i['walkTime'],i['waitingTime'],i['transitTime'],i['transfers'],fare]\n",
    "            writer.writerow(row)\n",
    "            trip_id += 1\n",
    "\n",
    "output_file.close()\n",
    "failed_routes = pd.DataFrame(failed_routes_list)"
   ]
  },
  {
   "cell_type": "code",
   "execution_count": 40,
   "metadata": {},
   "outputs": [
    {
     "data": {
      "text/plain": [
       "{'date': '01/29/2024',\n",
       " 'mode': 'WALK,TRANSIT',\n",
       " 'arriveBy': 'false',\n",
       " 'walkReluctance': '20',\n",
       " 'fromPlace': '52.40358573,-1.58385885',\n",
       " 'toPlace': '52.4064390773986,-1.57857909248855',\n",
       " 'time': '07:07',\n",
       " 'numItineraries': '1'}"
      ]
     },
     "execution_count": 40,
     "metadata": {},
     "output_type": "execute_result"
    }
   ],
   "source": [
    "objs['requestParameters']"
   ]
  },
  {
   "cell_type": "code",
   "execution_count": null,
   "metadata": {},
   "outputs": [],
   "source": []
  },
  {
   "cell_type": "code",
   "execution_count": 42,
   "metadata": {},
   "outputs": [
    {
     "ename": "ValueError",
     "evalue": "'h' is a bad directive in format '%Y-%m-%d %hh:%mm'",
     "output_type": "error",
     "traceback": [
      "\u001b[0;31m---------------------------------------------------------------------------\u001b[0m",
      "\u001b[0;31mValueError\u001b[0m                                Traceback (most recent call last)",
      "Cell \u001b[0;32mIn[42], line 1\u001b[0m\n\u001b[0;32m----> 1\u001b[0m query_time \u001b[38;5;241m=\u001b[39m \u001b[43mdatetime\u001b[49m\u001b[38;5;241;43m.\u001b[39;49m\u001b[43mstrptime\u001b[49m\u001b[43m(\u001b[49m\u001b[38;5;124;43m'\u001b[39;49m\u001b[38;5;124;43m \u001b[39;49m\u001b[38;5;124;43m'\u001b[39;49m\u001b[38;5;241;43m.\u001b[39;49m\u001b[43mjoin\u001b[49m\u001b[43m(\u001b[49m\u001b[43m[\u001b[49m\u001b[43mtrip_date\u001b[49m\u001b[43m,\u001b[49m\u001b[43m \u001b[49m\u001b[43mtrip_time\u001b[49m\u001b[43m]\u001b[49m\u001b[43m)\u001b[49m\u001b[43m,\u001b[49m\u001b[43m \u001b[49m\u001b[38;5;124;43m'\u001b[39;49m\u001b[38;5;124;43m%\u001b[39;49m\u001b[38;5;124;43mY-\u001b[39;49m\u001b[38;5;124;43m%\u001b[39;49m\u001b[38;5;124;43mm-\u001b[39;49m\u001b[38;5;132;43;01m%d\u001b[39;49;00m\u001b[38;5;124;43m \u001b[39;49m\u001b[38;5;124;43m%\u001b[39;49m\u001b[38;5;124;43mhh:\u001b[39;49m\u001b[38;5;124;43m%\u001b[39;49m\u001b[38;5;124;43mmm\u001b[39;49m\u001b[38;5;124;43m'\u001b[39;49m\u001b[43m)\u001b[49m\n",
      "File \u001b[0;32m~/miniconda3/envs/access/lib/python3.12/_strptime.py:555\u001b[0m, in \u001b[0;36m_strptime_datetime\u001b[0;34m(cls, data_string, format)\u001b[0m\n\u001b[1;32m    552\u001b[0m \u001b[38;5;28;01mdef\u001b[39;00m \u001b[38;5;21m_strptime_datetime\u001b[39m(\u001b[38;5;28mcls\u001b[39m, data_string, \u001b[38;5;28mformat\u001b[39m\u001b[38;5;241m=\u001b[39m\u001b[38;5;124m\"\u001b[39m\u001b[38;5;132;01m%a\u001b[39;00m\u001b[38;5;124m \u001b[39m\u001b[38;5;124m%\u001b[39m\u001b[38;5;124mb \u001b[39m\u001b[38;5;132;01m%d\u001b[39;00m\u001b[38;5;124m \u001b[39m\u001b[38;5;124m%\u001b[39m\u001b[38;5;124mH:\u001b[39m\u001b[38;5;124m%\u001b[39m\u001b[38;5;124mM:\u001b[39m\u001b[38;5;124m%\u001b[39m\u001b[38;5;124mS \u001b[39m\u001b[38;5;124m%\u001b[39m\u001b[38;5;124mY\u001b[39m\u001b[38;5;124m\"\u001b[39m):\n\u001b[1;32m    553\u001b[0m \u001b[38;5;250m    \u001b[39m\u001b[38;5;124;03m\"\"\"Return a class cls instance based on the input string and the\u001b[39;00m\n\u001b[1;32m    554\u001b[0m \u001b[38;5;124;03m    format string.\"\"\"\u001b[39;00m\n\u001b[0;32m--> 555\u001b[0m     tt, fraction, gmtoff_fraction \u001b[38;5;241m=\u001b[39m \u001b[43m_strptime\u001b[49m\u001b[43m(\u001b[49m\u001b[43mdata_string\u001b[49m\u001b[43m,\u001b[49m\u001b[43m \u001b[49m\u001b[38;5;28;43mformat\u001b[39;49m\u001b[43m)\u001b[49m\n\u001b[1;32m    556\u001b[0m     tzname, gmtoff \u001b[38;5;241m=\u001b[39m tt[\u001b[38;5;241m-\u001b[39m\u001b[38;5;241m2\u001b[39m:]\n\u001b[1;32m    557\u001b[0m     args \u001b[38;5;241m=\u001b[39m tt[:\u001b[38;5;241m6\u001b[39m] \u001b[38;5;241m+\u001b[39m (fraction,)\n",
      "File \u001b[0;32m~/miniconda3/envs/access/lib/python3.12/_strptime.py:325\u001b[0m, in \u001b[0;36m_strptime\u001b[0;34m(data_string, format)\u001b[0m\n\u001b[1;32m    323\u001b[0m         bad_directive \u001b[38;5;241m=\u001b[39m \u001b[38;5;124m\"\u001b[39m\u001b[38;5;124m%\u001b[39m\u001b[38;5;124m\"\u001b[39m\n\u001b[1;32m    324\u001b[0m     \u001b[38;5;28;01mdel\u001b[39;00m err\n\u001b[0;32m--> 325\u001b[0m     \u001b[38;5;28;01mraise\u001b[39;00m \u001b[38;5;167;01mValueError\u001b[39;00m(\u001b[38;5;124m\"\u001b[39m\u001b[38;5;124m'\u001b[39m\u001b[38;5;132;01m%s\u001b[39;00m\u001b[38;5;124m'\u001b[39m\u001b[38;5;124m is a bad directive in format \u001b[39m\u001b[38;5;124m'\u001b[39m\u001b[38;5;132;01m%s\u001b[39;00m\u001b[38;5;124m'\u001b[39m\u001b[38;5;124m\"\u001b[39m \u001b[38;5;241m%\u001b[39m\n\u001b[1;32m    326\u001b[0m                         (bad_directive, \u001b[38;5;28mformat\u001b[39m)) \u001b[38;5;28;01mfrom\u001b[39;00m \u001b[38;5;28;01mNone\u001b[39;00m\n\u001b[1;32m    327\u001b[0m \u001b[38;5;66;03m# IndexError only occurs when the format string is \"%\"\u001b[39;00m\n\u001b[1;32m    328\u001b[0m \u001b[38;5;28;01mexcept\u001b[39;00m \u001b[38;5;167;01mIndexError\u001b[39;00m:\n",
      "\u001b[0;31mValueError\u001b[0m: 'h' is a bad directive in format '%Y-%m-%d %hh:%mm'"
     ]
    }
   ],
   "source": [
    "query_time = datetime.strptime(' '.join([trip_date, trip_time]), '%Y-%m-%d %H:%M')"
   ]
  },
  {
   "cell_type": "code",
   "execution_count": 33,
   "metadata": {},
   "outputs": [
    {
     "data": {
      "text/plain": [
       "'08:20'"
      ]
     },
     "execution_count": 33,
     "metadata": {},
     "output_type": "execute_result"
    }
   ],
   "source": []
  },
  {
   "cell_type": "code",
   "execution_count": 53,
   "metadata": {},
   "outputs": [],
   "source": [
    "query_time = datetime.strptime(trip_time, '%H:%M').time()"
   ]
  },
  {
   "cell_type": "code",
   "execution_count": 48,
   "metadata": {},
   "outputs": [
    {
     "data": {
      "text/plain": [
       "datetime.time(7, 7)"
      ]
     },
     "execution_count": 48,
     "metadata": {},
     "output_type": "execute_result"
    }
   ],
   "source": [
    "time_object"
   ]
  },
  {
   "cell_type": "code",
   "execution_count": 45,
   "metadata": {},
   "outputs": [
    {
     "ename": "TypeError",
     "evalue": "'str' object cannot be interpreted as an integer",
     "output_type": "error",
     "traceback": [
      "\u001b[0;31m---------------------------------------------------------------------------\u001b[0m",
      "\u001b[0;31mTypeError\u001b[0m                                 Traceback (most recent call last)",
      "Cell \u001b[0;32mIn[45], line 1\u001b[0m\n\u001b[0;32m----> 1\u001b[0m query_time \u001b[38;5;241m=\u001b[39m \u001b[43mdatetime\u001b[49m\u001b[38;5;241;43m.\u001b[39;49m\u001b[43mfromtimestamp\u001b[49m\u001b[43m(\u001b[49m\u001b[43mtrip_time\u001b[49m\u001b[43m)\u001b[49m\n",
      "\u001b[0;31mTypeError\u001b[0m: 'str' object cannot be interpreted as an integer"
     ]
    }
   ],
   "source": [
    "query_time = datetime.fromtimestamp(trip_time)"
   ]
  },
  {
   "cell_type": "code",
   "execution_count": 50,
   "metadata": {},
   "outputs": [],
   "source": [
    "departure_time = datetime.fromtimestamp(float(i['startTime']) / 1000).time()"
   ]
  },
  {
   "cell_type": "code",
   "execution_count": 51,
   "metadata": {},
   "outputs": [
    {
     "data": {
      "text/plain": [
       "datetime.time(7, 14, 39)"
      ]
     },
     "execution_count": 51,
     "metadata": {},
     "output_type": "execute_result"
    }
   ],
   "source": [
    "departure_time"
   ]
  },
  {
   "cell_type": "code",
   "execution_count": 54,
   "metadata": {},
   "outputs": [
    {
     "ename": "TypeError",
     "evalue": "unsupported operand type(s) for -: 'datetime.time' and 'datetime.time'",
     "output_type": "error",
     "traceback": [
      "\u001b[0;31m---------------------------------------------------------------------------\u001b[0m",
      "\u001b[0;31mTypeError\u001b[0m                                 Traceback (most recent call last)",
      "Cell \u001b[0;32mIn[54], line 1\u001b[0m\n\u001b[0;32m----> 1\u001b[0m initial_wait_time \u001b[38;5;241m=\u001b[39m (\u001b[43mdeparture_time\u001b[49m\u001b[43m \u001b[49m\u001b[38;5;241;43m-\u001b[39;49m\u001b[43m \u001b[49m\u001b[43mquery_time\u001b[49m)\u001b[38;5;241m.\u001b[39mtotal_seconds()\n",
      "\u001b[0;31mTypeError\u001b[0m: unsupported operand type(s) for -: 'datetime.time' and 'datetime.time'"
     ]
    }
   ],
   "source": [
    "initial_wait_time = (departure_time - query_time).total_seconds()"
   ]
  },
  {
   "cell_type": "code",
   "execution_count": 62,
   "metadata": {},
   "outputs": [],
   "source": [
    "time_difference = (datetime.combine(datetime.today(), departure_time) - datetime.combine(datetime.today(), query_time)).total_seconds()\n"
   ]
  },
  {
   "cell_type": "code",
   "execution_count": 63,
   "metadata": {},
   "outputs": [
    {
     "data": {
      "text/plain": [
       "459.0"
      ]
     },
     "execution_count": 63,
     "metadata": {},
     "output_type": "execute_result"
    }
   ],
   "source": [
    "time_difference"
   ]
  }
 ],
 "metadata": {
  "kernelspec": {
   "display_name": "access",
   "language": "python",
   "name": "python3"
  },
  "language_info": {
   "codemirror_mode": {
    "name": "ipython",
    "version": 3
   },
   "file_extension": ".py",
   "mimetype": "text/x-python",
   "name": "python",
   "nbconvert_exporter": "python",
   "pygments_lexer": "ipython3",
   "version": "3.12.1"
  }
 },
 "nbformat": 4,
 "nbformat_minor": 2
}
